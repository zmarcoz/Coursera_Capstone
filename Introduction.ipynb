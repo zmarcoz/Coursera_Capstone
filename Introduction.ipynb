{
 "cells": [
  {
   "cell_type": "markdown",
   "metadata": {},
   "source": [
    "#  Compare New York City and Toronto and determine how similar or dissimilar they are"
   ]
  },
  {
   "cell_type": "markdown",
   "metadata": {},
   "source": [
    "## Background of New York "
   ]
  },
  {
   "cell_type": "markdown",
   "metadata": {},
   "source": [
    "New York City (NYC), often called The City or simply New York (NY), is the most populous city in the United States. With an estimated 2019 population of 8,336,817 distributed over about 302.6 square miles (784 km2), New York is also the most densely populated major city in the United States.[6] Located at the southern tip of the U.S. state of New York, the city is the center of the New York metropolitan area, the largest metropolitan area in the world by urban landmass.[10] With almost 20 million people in its metropolitan statistical area and approximately 23 million in its combined statistical area, it is one of the world's most populous megacities. New York City has been described as the cultural, financial, and media capital of the world, significantly influencing commerce,[11] entertainment, research, technology, education, politics, tourism, art, fashion, and sports. Home to the headquarters of the United Nations,[12] New York is an important center for international diplomacy.[13][14]\n",
    "\n",
    "Situated on one of the world's largest natural harbors, New York City is composed of five boroughs, each of which is a county of the State of New York.[15] The five boroughs—Brooklyn, Queens, Manhattan, the Bronx, and Staten Island—were consolidated into a single city in 1898.[16] The city and its metropolitan area constitute the premier gateway for legal immigration to the United States. As many as 800 languages are spoken in New York,[17] making it the most linguistically diverse city in the world. New York is home to more than 3.2 million residents born outside the United States,[18] the largest foreign-born population of any city in the world as of 2016.[19][20] As of 2019, the New York metropolitan area is estimated to produce a gross metropolitan product (GMP) of $2.0 trillion. If the New York metropolitan area were a sovereign state, it would have the 8th largest economy in the world. New York is home to the highest number of billionaires of any city in the world.\n",
    "\n",
    "New York City traces its origins to a trading post founded by colonists from the Dutch Republic in 1624 on Lower Manhattan; the post was named New Amsterdam in 1626.[21] The city and its surroundings came under English control in 1664[21] and were renamed New York after King Charles II of England granted the lands to his brother, the Duke of York.[22] New York was the capital of the United States from 1785 until 1790,[23] and has been the largest U.S. city since 1790.[24] The Statue of Liberty greeted millions of immigrants as they came to the U.S. by ship in the late 19th and early 20th centuries[25] and is a symbol of the U.S. and its ideals of liberty and peace.[26] In the 21st century, New York has emerged as a global node of creativity and entrepreneurship[27] and environmental sustainability,[28][29] and as a symbol of freedom and cultural diversity.[30] In 2019, New York was voted the greatest city in the world per a survey of over 30,000 people from 48 cities worldwide, citing its cultural diversity.[31]\n",
    "\n",
    "Many districts and landmarks in New York City are well known, including three of the world's ten most visited tourist attractions in 2013.[32] A record 62.8 million tourists visited New York City in 2017. Times Square is the brightly illuminated hub of the Broadway Theater District,[33] one of the world's busiest pedestrian intersections,[34][35] and a major center of the world's entertainment industry.[36] Many of the city's landmarks, skyscrapers,[37] and parks are known around the world. Manhattan's real estate market is among the most expensive in the world.[38][39] New York is home to the largest ethnic Chinese population outside of Asia,[40][41] with multiple distinct Chinatowns across the city. Providing continuous 24/7 service and contributing to the nickname The City that Never Sleeps, the New York City Subway is the largest single-operator rapid transit system worldwide, with 472 rail stations. The city has over 120 colleges and universities, including Columbia University, New York University, Rockefeller University, and the City University of New York system, which is the largest urban public university system in the United States.[42] Anchored by Wall Street in the Financial District of Lower Manhattan, New York City has been called the both the world’s leading financial center and the most financially powerful city in the world, and is home to the world's two largest stock exchanges by total market capitalization, the New York Stock Exchange and NASDAQ.[43][44]"
   ]
  },
  {
   "cell_type": "markdown",
   "metadata": {},
   "source": [
    "## Background of Toronto "
   ]
  },
  {
   "cell_type": "markdown",
   "metadata": {},
   "source": [
    "Toronto is the provincial capital of Ontario and the most populous city in Canada, with a population of 2,731,571 as of 2016.[14] Current to 2016, the Toronto census metropolitan area (CMA), of which the majority is within the Greater Toronto Area (GTA), held a population of 5,928,040, making it Canada's most populous CMA. The city is the anchor of the Golden Horseshoe, an urban agglomeration of 9,245,438 people (as of 2016) surrounding the western end of Lake Ontario.[15] Toronto is an international centre of business, finance, arts, and culture, and is recognized as one of the most multicultural and cosmopolitan cities in the world.[16][17][18]\n",
    "\n",
    "People have travelled through and inhabited the Toronto area, located on a broad sloping plateau interspersed with rivers, deep ravines, and urban forest, for more than 10,000 years.[19] After the broadly disputed Toronto Purchase, when the Mississauga surrendered the area to the British Crown,[20] the British established the town of York in 1793 and later designated it as the capital of Upper Canada.[21] During the War of 1812, the town was the site of the Battle of York and suffered heavy damage by American troops.[22] York was renamed and incorporated in 1834 as the city of Toronto. It was designated as the capital of the province of Ontario in 1867 during Canadian Confederation.[23] The city proper has since expanded past its original borders through both annexation and amalgamation to its current area of 630.2 km2 (243.3 sq mi).\n",
    "\n",
    "The diverse population of Toronto reflects its current and historical role as an important destination for immigrants to Canada.[24][25] More than 50 percent of residents belong to a visible minority population group,[26] and over 200 distinct ethnic origins are represented among its inhabitants.[27] While the majority of Torontonians speak English as their primary language, over 160 languages are spoken in the city.[28]\n",
    "\n",
    "Toronto is a prominent centre for music,[29] theatre,[30] motion picture production,[31] and television production,[32] and is home to the headquarters of Canada's major national broadcast networks and media outlets.[33] Its varied cultural institutions,[34] which include numerous museums and galleries, festivals and public events, entertainment districts, national historic sites, and sports activities,[35] attract over 43 million tourists each year.[36][37] Toronto is known for its many skyscrapers and high-rise buildings,[38] in particular the tallest free-standing structure in the Western Hemisphere, the CN Tower.[39]\n",
    "\n",
    "The city is home to the Toronto Stock Exchange, the headquarters of Canada's five largest banks,[40] and the headquarters of many large Canadian and multinational corporations.[41] Its economy is highly diversified with strengths in technology, design, financial services, life sciences, education, arts, fashion, aerospace, environmental innovation, food services, and tourism.[42][43][44]"
   ]
  },
  {
   "cell_type": "code",
   "execution_count": null,
   "metadata": {},
   "outputs": [],
   "source": []
  }
 ],
 "metadata": {
  "kernelspec": {
   "display_name": "Python 3",
   "language": "python",
   "name": "python3"
  },
  "language_info": {
   "codemirror_mode": {
    "name": "ipython",
    "version": 3
   },
   "file_extension": ".py",
   "mimetype": "text/x-python",
   "name": "python",
   "nbconvert_exporter": "python",
   "pygments_lexer": "ipython3",
   "version": "3.8.2"
  }
 },
 "nbformat": 4,
 "nbformat_minor": 4
}
