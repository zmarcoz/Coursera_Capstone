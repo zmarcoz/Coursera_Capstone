{
 "cells": [
  {
   "cell_type": "markdown",
   "metadata": {},
   "source": [
    "#  Compare New York City and Toronto and determine how similar or dissimilar they are"
   ]
  },
  {
   "cell_type": "markdown",
   "metadata": {},
   "source": [
    "## Data"
   ]
  },
  {
   "cell_type": "markdown",
   "metadata": {},
   "source": [
    "I will generate two sets of venue data. One set is for New York. The other set is for Toronto. Normalize the data, then I will combine those venue data in a big table. \n",
    "\n",
    "After that I will use unsupervised clustering with 2 initial points. Then the clustering method should label each data point with either New York or Toronto. After I know the labels, then I will check back whether it matched with the original data set. \n",
    "\n",
    "If most of the data is correctly classified, then it means that New York and Toronto are different from clustering point of view. On the other hand, If most of the data is misclassified, then it means that New York and Toronto are similar from clustering point of view"
   ]
  },
  {
   "cell_type": "code",
   "execution_count": null,
   "metadata": {},
   "outputs": [],
   "source": []
  }
 ],
 "metadata": {
  "kernelspec": {
   "display_name": "Python 3",
   "language": "python",
   "name": "python3"
  },
  "language_info": {
   "codemirror_mode": {
    "name": "ipython",
    "version": 3
   },
   "file_extension": ".py",
   "mimetype": "text/x-python",
   "name": "python",
   "nbconvert_exporter": "python",
   "pygments_lexer": "ipython3",
   "version": "3.8.2"
  }
 },
 "nbformat": 4,
 "nbformat_minor": 4
}
